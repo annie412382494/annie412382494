{
  "nbformat": 4,
  "nbformat_minor": 0,
  "metadata": {
    "colab": {
      "provenance": [],
      "authorship_tag": "ABX9TyNHPsYAqB13Y+Kc2D2BCcZ3",
      "include_colab_link": true
    },
    "kernelspec": {
      "name": "python3",
      "display_name": "Python 3"
    },
    "language_info": {
      "name": "python"
    }
  },
  "cells": [
    {
      "cell_type": "markdown",
      "metadata": {
        "id": "view-in-github",
        "colab_type": "text"
      },
      "source": [
        "<a href=\"https://colab.research.google.com/github/annie412382494/annie412382494/blob/main/%E8%A8%88%E7%AE%97%E7%B4%AF%E8%A8%88%E6%95%B8%E5%AD%97.ipynb\" target=\"_parent\"><img src=\"https://colab.research.google.com/assets/colab-badge.svg\" alt=\"Open In Colab\"/></a>"
      ]
    },
    {
      "cell_type": "code",
      "execution_count": null,
      "metadata": {
        "id": "nJ9swbWhls2x"
      },
      "outputs": [],
      "source": [
        "Q1=26295929\n",
        "Q2=27668242\n",
        "Q3=27002293\n",
        "Q4=28347871\n",
        "\n",
        "\n",
        "acc_Q1=Q1\n",
        "print(acc_Q1)\n",
        "\n",
        "acc_Q2=Q1+Q2\n",
        "print(acc_Q2)\n",
        "\n",
        "acc_Q3=Q1+Q2+Q3\n",
        "print(acc_Q3)\n",
        "\n",
        "acc_Q4=Q1+Q2+Q3+4\n",
        "print(acc_Q4)"
      ]
    }
  ]
}